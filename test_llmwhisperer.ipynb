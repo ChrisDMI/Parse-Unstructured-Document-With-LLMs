{
 "cells": [
  {
   "cell_type": "code",
   "execution_count": 2,
   "metadata": {},
   "outputs": [
    {
     "name": "stdout",
     "output_type": "stream",
     "text": [
      "Processed document: \n",
      "\n",
      "454                              O. Sanni, A.P.I. Popoola / Data in Brief 22 (2019) 451â457 \n",
      "\n",
      " Fig. 4. Anodic and cathodic polarization curve of stainless steel in 0.5 M H2SO4 solution in the presence and absence of ES. \n",
      "\n",
      "Table 1 \n",
      "Potentiodynamic polarization data for stainless steel in the absence and presence of ES in 0.5 M H2SO4 solution. \n",
      "\n",
      "  Inhibitor             bc (V/dec)    ba (V/dec)    Ecorr (V)    icorr (A/cm2)    Polarization      Corrosion \n",
      "  concentration (g)                                                               resistance (Î©)    rate (mm/year) \n",
      "\n",
      "  0                     0.0335        0.0409         0.9393 0.0003          24.0910          2.8163 \n",
      "  2                     1.9460        0.0596         0.8276 0.0002         121.440           1.5054 \n",
      "  4                     0.0163        0.2369         0.8825 0.0001          42.121           0.9476 \n",
      "  6                     0.3233        0.0540         0.8027 5.39E-05       373.180           0.4318 \n",
      "  8                     0.1240        0.0556         0.5896 5.46E-05       305.650           0.3772 \n",
      "  10                    0.0382        0.0086         0.5356 1.24E-05       246.080           0.0919 \n",
      "\n",
      "    The plot of inhibitor concentration over degree of surface coverage versus inhibitor concentration \n",
      "gives a straight line as shown in Fig. 5. The strong correlation reveals that egg shell adsorption on \n",
      "stainless surface in 0.5 M H 2SO 4 follow Langmuir adsorption isotherm. Figs. 6â8 show the SEM/EDX \n",
      "surface morphology analysis of stainless steel. Figs. 7 and 8 are the SEM/EDX images of the stainless \n",
      "steel specimens without and with inhibitor after weight loss experiment in sulphuric acid medium. \n",
      "The stainless steel surface corrosion product layer in the absence of inhibitor was porous and as a \n",
      "result gives no corrosion protection. With the presence of ES, corrosion damage was minimized, with \n",
      "an evidence of ES present on the metal surface as shown in Fig. 8. \n",
      "\n",
      "                         12                                                               C/0 \n",
      "\n",
      "                         10 \n",
      "\n",
      "                      C/0 \n",
      "\n",
      "                          2468 \n",
      "                             2            4             6             8            10 \n",
      "                                                 Concentration (g) \n",
      "\n",
      "                                      Fig. 5. Langmuir adsorption isotherm of ES. \n",
      "<<<\n",
      "\n"
     ]
    }
   ],
   "source": [
    "import requests\n",
    "from Utils import Utils\n",
    "\n",
    "# Initialize Utils\n",
    "utils = Utils()\n",
    "\n",
    "# Get the LLMWhisperer API key\n",
    "API_KEY = utils.get_llmwhisperer_api_key()\n",
    "API_URL = utils.get_llmwhisperer_api_url()\n",
    "\n",
    "# File path to the document you want to process\n",
    "file_path = \"docs/embedded-images-tables.pdf\"\n",
    "\n",
    "# Parameters\n",
    "params = {\n",
    "    \"force_text_processing\": \"true\",\n",
    "    \"processing_mode\": \"text\",\n",
    "    \"output_mode\": \"line-printer\"\n",
    "}\n",
    "\n",
    "# Make the request to LLMWhisperer API\n",
    "with open(file_path, 'rb') as file:\n",
    "    response = requests.post(\n",
    "        API_URL,\n",
    "        headers={\"unstract-key\": API_KEY, \"Content-Type\": \"application/octet-stream\"},\n",
    "        params=params,\n",
    "        data=file\n",
    "    )\n",
    "\n",
    "# Check the response\n",
    "if response.status_code == 200:\n",
    "    result = response.text\n",
    "    print(\"Processed document:\", result)\n",
    "elif response.status_code == 202:\n",
    "    result = response.json()\n",
    "    print(\"Processing in progress:\", result)\n",
    "else:\n",
    "    print(\"Error:\", response.status_code, response.text)"
   ]
  }
 ],
 "metadata": {
  "kernelspec": {
   "display_name": "unstructured_env",
   "language": "python",
   "name": "python3"
  },
  "language_info": {
   "codemirror_mode": {
    "name": "ipython",
    "version": 3
   },
   "file_extension": ".py",
   "mimetype": "text/x-python",
   "name": "python",
   "nbconvert_exporter": "python",
   "pygments_lexer": "ipython3",
   "version": "3.9.19"
  }
 },
 "nbformat": 4,
 "nbformat_minor": 2
}
